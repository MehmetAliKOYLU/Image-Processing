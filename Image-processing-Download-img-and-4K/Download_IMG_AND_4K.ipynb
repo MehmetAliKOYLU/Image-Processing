{
 "cells": [
  {
   "cell_type": "code",
   "execution_count": null,
   "id": "ea1ab5b9-eddc-452a-a17a-adbe21057b88",
   "metadata": {},
   "outputs": [],
   "source": [
    "import requests\n",
    "import instaloader\n",
    "import torch\n",
    "from PIL import Image\n",
    "import numpy as np\n",
    "from RealESRGAN import RealESRGAN\n",
    "import time\n",
    "import warnings\n",
    "\n",
    "warnings.filterwarnings(\"ignore\")\n",
    "\n",
    "\n",
    "with open('./instagram.txt',encoding = 'utf-8') as dosya :  # instagram.txt = ur instagram id and password\n",
    "    my_list = dosya.readlines()\n",
    "my_username = my_list[0].replace('\\n','')\n",
    "my_password = my_list[1]\n",
    "\n",
    "def download_pp(insta_username):\n",
    "    load = instaloader.Instaloader()\n",
    "    try : \n",
    "        profile = instaloader.Profile.from_username(load.context,insta_username)\n",
    "        profile_pic_url = profile.profile_pic_url\n",
    "        response = requests.get(profile_pic_url)\n",
    "        with open(f'{insta_username}_pp.png','wb') as dosya:\n",
    "            dosya.write(response.content)\n",
    "        print('Downloaded')\n",
    "    except Exception as e:\n",
    "        print(e)\n",
    "\n",
    "download_pp('InstagramID')"
   ]
  },
  {
   "cell_type": "code",
   "execution_count": null,
   "id": "fae2bb28-881a-4be0-b6af-aa51d037eee8",
   "metadata": {},
   "outputs": [],
   "source": [
    "import torch\n",
    "from PIL import Image\n",
    "import numpy as np\n",
    "from RealESRGAN import RealESRGAN\n",
    "import time\n",
    "\n",
    "import warnings\n",
    "warnings.filterwarnings(\"ignore\")\n",
    "\n",
    "\n",
    "device = torch.device('cuda' if torch.cuda.is_available() else 'cpu')\n",
    "model = RealESRGAN(device,scale=4)\n",
    "model.load_weights('./RealESRGAN_x4.pth',download=True)\n",
    "img_path = 'IMAGE_PATH'\n",
    "my_image = Image.open(img_path).convert('RGB')\n",
    "new_image = model.predict(my_image)\n",
    "new_image.save('4k.png')"
   ]
  }
 ],
 "metadata": {
  "kernelspec": {
   "display_name": "Python [conda env:Image_processing]",
   "language": "python",
   "name": "conda-env-Image_processing-py"
  },
  "language_info": {
   "codemirror_mode": {
    "name": "ipython",
    "version": 3
   },
   "file_extension": ".py",
   "mimetype": "text/x-python",
   "name": "python",
   "nbconvert_exporter": "python",
   "pygments_lexer": "ipython3",
   "version": "3.10.10"
  }
 },
 "nbformat": 4,
 "nbformat_minor": 5
}
